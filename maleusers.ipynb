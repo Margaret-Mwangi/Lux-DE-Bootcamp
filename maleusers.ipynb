{
 "cells": [
  {
   "cell_type": "code",
   "execution_count": 5,
   "metadata": {},
   "outputs": [],
   "source": [
    "import requests"
   ]
  },
  {
   "cell_type": "code",
   "execution_count": 2,
   "metadata": {},
   "outputs": [],
   "source": [
    "maleusers = [] #create an empty list\n",
    "femaleusers = []# a list for female users"
   ]
  },
  {
   "cell_type": "code",
   "execution_count": 3,
   "metadata": {},
   "outputs": [],
   "source": [
    "values = {\n",
    "    \"results\": 100,\n",
    "     \"gender\" : \"male\"\n",
    "}"
   ]
  },
  {
   "cell_type": "code",
   "execution_count": 4,
   "metadata": {},
   "outputs": [],
   "source": [
    "\n",
    "while len(maleusers) < 100: #check size of list\n",
    "    api_url = \"https://randomuser.me/api/\" \n",
    "\n",
    "    response = requests.get(api_url,params=values) #get data from api_url\n",
    "\n",
    "    user = response.json()[\"results\"] # access the results value from the dictionary which contains gender information\n",
    "    \n",
    "     #check the value if the value of \"gender\" is male\n",
    "    maleusers.append(user) #if the gender is male, then apend the data to the maleusers list\n",
    "    "
   ]
  },
  {
   "cell_type": "code",
   "execution_count": 5,
   "metadata": {},
   "outputs": [
    {
     "data": {
      "text/plain": [
       "100"
      ]
     },
     "execution_count": 5,
     "metadata": {},
     "output_type": "execute_result"
    }
   ],
   "source": [
    "#determine the number of items in the list\n",
    "len(maleusers)"
   ]
  },
  {
   "cell_type": "code",
   "execution_count": 6,
   "metadata": {},
   "outputs": [
    {
     "name": "stdout",
     "output_type": "stream",
     "text": [
      "1. Jacob Green\n",
      "2. Owen White\n",
      "3. Vicente Moya\n",
      "4. Tanasko Srećković\n",
      "5. Paul Byrd\n",
      "6. Sergio Villareal\n",
      "7. Önal Tekelioğlu\n",
      "8. Nero Gomes\n",
      "9. Alonso Salinas\n",
      "10. Wolf-Rüdiger Wolfrum\n",
      "11. Stanley Tucker\n",
      "12. Taeke Heijligers\n",
      "13. Lucas Hughes\n",
      "14. Edward Wright\n",
      "15. Armando Caldwell\n",
      "16. Leonardo Burgos\n",
      "17. Theo Gardner\n",
      "18. Jake Williams\n",
      "19. Krsto Karadžić\n",
      "20. Arthur Masson\n",
      "21. Ümit Erbulak\n",
      "22. Liam Chen\n",
      "23. Sjeng Hoedjes\n",
      "24. George Anderson\n",
      "25. Ítalo Teixeira\n",
      "26. Czeslaw Bachmann\n",
      "27. Albin Lefebvre\n",
      "28. Marick Bakhuizen\n",
      "29. Mathis Anderson\n",
      "30. Jorge Decker\n",
      "31. Connor Taylor\n",
      "32. Carter Butler\n",
      "33. Walther Holl\n",
      "34. Matthew Undrum\n",
      "35. Marek Meunier\n",
      "36. Lilian Berger\n",
      "37. Serhat Aardenburg\n",
      "38. Gene Ross\n",
      "39. Roland Fernandez\n",
      "40. Phoenix White\n",
      "41. Karl Pena\n",
      "42. Anthony Gagné\n",
      "43. Ike Van Baaren\n",
      "44. Ramiro Ureña\n",
      "45. ایلیا حسینی\n",
      "46. Jacob Smith\n",
      "47. Halil Van Bijnen\n",
      "48. Mohammed Dittmann\n",
      "49. Gene Williams\n",
      "50. Onur Oraloğlu\n",
      "51. Lucas Singh\n",
      "52. دانیال مرادی\n",
      "53. Atanas Mogilyanskiy\n",
      "54. Francis Hughes\n",
      "55. Jakob Krapf\n",
      "56. Rasmus Erkkila\n",
      "57. Sébastien Fournier\n",
      "58. Aiden Smith\n",
      "59. Rick Kelly\n",
      "60. Mohamed Molina\n",
      "61. Björn Lopez\n",
      "62. Patric Gautier\n",
      "63. Velichar Atamanenko\n",
      "64. Even Sellevold\n",
      "65. Shaurya Salian\n",
      "66. Marinko Dokić\n",
      "67. Valdemar Christiansen\n",
      "68. Nikolaj Christiansen\n",
      "69. Massimo Bier\n",
      "70. Driton Renaud\n",
      "71. Harley Robinson\n",
      "72. Magnus Jørgensen\n",
      "73. Stanoje Pantić\n",
      "74. Harold Ryan\n",
      "75. Andrés Campos\n",
      "76. Christopher Garcia\n",
      "77. Lyutobor Popadyuk\n",
      "78. Arjun Saniel\n",
      "79. Lincoln Chen\n",
      "80. Valdemar Sørensen\n",
      "81. Odin Bakke\n",
      "82. Yaropolk Adamovich\n",
      "83. آرسین رضاییان\n",
      "84. Eemeli Lehtinen\n",
      "85. Cléo Guillot\n",
      "86. Mateo Richard\n",
      "87. Juho Saksa\n",
      "88. Svirid Storozhuk\n",
      "89. Adem Menemencioğlu\n",
      "90. Teodomiro Ramos\n",
      "91. Ruben Cole\n",
      "92. Kajus Sandø\n",
      "93. Erik Snyder\n",
      "94. Nihat Wiegman\n",
      "95. Veeti Seppala\n",
      "96. شایان قاسمی\n",
      "97. آریا سالاری\n",
      "98. حامد حیدری\n",
      "99. Mahé Dubois\n"
     ]
    }
   ],
   "source": [
    "for i in range(1,100):\n",
    "    print(f'{i}. {maleusers[i][0][\"name\"][\"first\"]} {maleusers[i][0][\"name\"][\"last\"]}')"
   ]
  },
  {
   "cell_type": "code",
   "execution_count": null,
   "metadata": {},
   "outputs": [],
   "source": []
  }
 ],
 "metadata": {
  "kernelspec": {
   "display_name": "base",
   "language": "python",
   "name": "python3"
  },
  "language_info": {
   "codemirror_mode": {
    "name": "ipython",
    "version": 3
   },
   "file_extension": ".py",
   "mimetype": "text/x-python",
   "name": "python",
   "nbconvert_exporter": "python",
   "pygments_lexer": "ipython3",
   "version": "3.9.13"
  },
  "orig_nbformat": 4,
  "vscode": {
   "interpreter": {
    "hash": "16702569c2ff5c8afaa6d9391f9969b5316a57602435b8dae87cc2ecbe41133d"
   }
  }
 },
 "nbformat": 4,
 "nbformat_minor": 2
}
