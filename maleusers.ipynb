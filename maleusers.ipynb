{
 "cells": [
  {
   "cell_type": "code",
   "execution_count": 16,
   "metadata": {},
   "outputs": [],
   "source": [
    "import requests"
   ]
  },
  {
   "cell_type": "code",
   "execution_count": 17,
   "metadata": {},
   "outputs": [],
   "source": [
    "male_users = [] #create an empty list"
   ]
  },
  {
   "cell_type": "code",
   "execution_count": 18,
   "metadata": {},
   "outputs": [],
   "source": [
    "values = {\n",
    "    \"results\": 100,\n",
    "    \"gender\" : \"male\"\n",
    "}"
   ]
  },
  {
   "cell_type": "code",
   "execution_count": 19,
   "metadata": {},
   "outputs": [],
   "source": [
    "api_url = \"https://randomuser.me/api/\" \n",
    "\n",
    "response = requests.get(api_url, params=values) #get data from api_url\n",
    "\n",
    "male_users = response.json()[\"results\"] # access the results value from the dictionary which contains gender information\n",
    "    "
   ]
  },
  {
   "cell_type": "code",
   "execution_count": 20,
   "metadata": {},
   "outputs": [
    {
     "data": {
      "text/plain": [
       "100"
      ]
     },
     "execution_count": 20,
     "metadata": {},
     "output_type": "execute_result"
    }
   ],
   "source": [
    "#determine the number of items in the list\n",
    "len(male_users)"
   ]
  },
  {
   "cell_type": "code",
   "execution_count": 21,
   "metadata": {},
   "outputs": [
    {
     "name": "stdout",
     "output_type": "stream",
     "text": [
      "1. Silvester Staiger\n",
      "2. Önal Baykam\n",
      "3. Blake Grewal\n",
      "4. Zlotodan Zhilko\n",
      "5. Randall White\n",
      "6. Diogo Slegt\n",
      "7. Tyler Wang\n",
      "8. Macit Çörekçi\n",
      "9. Sergiy Vasilchenko\n",
      "10. Mahmut Dahl\n",
      "11. Alfredo Lambert\n",
      "12. Leslie Carpenter\n",
      "13. Max Røysland\n",
      "14. Dean Holland\n",
      "15. Jonatã da Rocha\n",
      "16. Stephen Hopkins\n",
      "17. Troy Myers\n",
      "18. Salvador Hamilton\n",
      "19. Dustin Herrera\n",
      "20. Brynjar Lillebø\n",
      "21. Tilo Görlich\n",
      "22. Micheal Montgomery\n",
      "23. Podolyan Shatkovskiy\n",
      "24. Emir Kjølberg\n",
      "25. Jonathan Mortensen\n",
      "26. Dorian Boere\n",
      "27. Jasper Abraha\n",
      "28. Marco Bravo\n",
      "29. Sander Christiansen\n",
      "30. Humberto Zavala\n",
      "31. Lachlan Taylor\n",
      "32. Rostislav Zavadovskiy\n",
      "33. Victor Møller\n",
      "34. Efe Orbay\n",
      "35. Freddie Owens\n",
      "36. Josef Guerin\n",
      "37. Lewis Wagner\n",
      "38. Otto Reiten\n",
      "39. Sicco Weijters\n",
      "40. Ernst Renard\n",
      "41. Dhipu Kumar\n",
      "42. Živan Pištalo\n",
      "43. Lian Gonzalez\n",
      "44. Dylan Barnaby\n",
      "45. Ray Burns\n",
      "46. Marin Gautier\n",
      "47. آدرین زارعی\n",
      "48. Tristan Colin\n",
      "49. Jørgen Kjørstad\n",
      "50. Mariano Maestas\n",
      "51. Nicolas Jones\n",
      "52. Beau Brown\n",
      "53. Teodoro Llamas\n",
      "54. Felix Davies\n",
      "55. Zoran Milovanović\n",
      "56. Jonas Nielsen\n",
      "57. Noah Olsen\n",
      "58. Eberhard Döhler\n",
      "59. Theodore Daniels\n",
      "60. علیرضا کامروا\n",
      "61. August Mortensen\n",
      "62. Iván Flores\n",
      "63. Jean-Luc Francois\n",
      "64. Samuel Garrido\n",
      "65. Emanuel Picard\n",
      "66. محمدامين حیدری\n",
      "67. Toivo Wuollet\n",
      "68. Hermitério Freitas\n",
      "69. Onni Korhonen\n",
      "70. Jeremy Graham\n",
      "71. August Sørensen\n",
      "72. Hernán Guajardo\n",
      "73. Gavin Powell\n",
      "74. نيما کوتی\n",
      "75. Gaetano Dupuis\n",
      "76. Randy Knight\n",
      "77. Nathan Gagnon\n",
      "78. Lance Ramirez\n",
      "79. Bobby Cruz\n",
      "80. حسین جعفری\n",
      "81. Arttu Heinonen\n",
      "82. Brayden Rhodes\n",
      "83. Macit Kurutluoğlu\n",
      "84. Jordi Iglesias\n",
      "85. Eliah Enge\n",
      "86. Milan Gustafsson\n",
      "87. Sebastian Alexander\n",
      "88. Roberto Murphy\n",
      "89. Marcus Campos\n",
      "90. Hvala Maksimenko\n",
      "91. Kuzey Koç\n",
      "92. Goricvit Dovgodko\n",
      "93. آرتين زارعی\n",
      "94. Vedat Sezek\n",
      "95. Atiksh Belligatti\n",
      "96. Mylan Berger\n",
      "97. Gerhard Mercier\n",
      "98. Jimmie Fox\n",
      "99. Oskari Wirkkala\n"
     ]
    }
   ],
   "source": [
    "for i in range(1,100):\n",
    "    print(f'{i}. {male_users[i][\"name\"][\"first\"]} {male_users[i][\"name\"][\"last\"]}')"
   ]
  },
  {
   "cell_type": "code",
   "execution_count": null,
   "metadata": {},
   "outputs": [],
   "source": []
  }
 ],
 "metadata": {
  "kernelspec": {
   "display_name": "base",
   "language": "python",
   "name": "python3"
  },
  "language_info": {
   "codemirror_mode": {
    "name": "ipython",
    "version": 3
   },
   "file_extension": ".py",
   "mimetype": "text/x-python",
   "name": "python",
   "nbconvert_exporter": "python",
   "pygments_lexer": "ipython3",
   "version": "3.9.13"
  },
  "orig_nbformat": 4,
  "vscode": {
   "interpreter": {
    "hash": "16702569c2ff5c8afaa6d9391f9969b5316a57602435b8dae87cc2ecbe41133d"
   }
  }
 },
 "nbformat": 4,
 "nbformat_minor": 2
}
