{
 "cells": [
  {
   "attachments": {},
   "cell_type": "markdown",
   "metadata": {},
   "source": [
    "\"\"\"\n",
    "Using Python and the appropriate Python package of your choice, access https://randomuser.me/ api and list the top 100 male users. \n",
    "All the best\n",
    "\n",
    "\"\"\""
   ]
  },
  {
   "cell_type": "code",
   "execution_count": 22,
   "metadata": {},
   "outputs": [],
   "source": [
    "#Import the required libraries\n",
    "import requests"
   ]
  },
  {
   "cell_type": "code",
   "execution_count": 23,
   "metadata": {},
   "outputs": [],
   "source": [
    "male_users = [] #create an empty list"
   ]
  },
  {
   "cell_type": "code",
   "execution_count": 24,
   "metadata": {},
   "outputs": [],
   "source": [
    "values = {\n",
    "    \"results\": 100,\n",
    "    \"gender\" : \"male\"\n",
    "}"
   ]
  },
  {
   "cell_type": "code",
   "execution_count": 25,
   "metadata": {},
   "outputs": [],
   "source": [
    "api_url = \"https://randomuser.me/api/\" \n",
    "\n",
    "response = requests.get(api_url, params=values) #get data from api_url\n",
    "\n",
    "male_users = response.json()[\"results\"] # access the results value from the dictionary which contains gender information\n",
    "    "
   ]
  },
  {
   "cell_type": "code",
   "execution_count": 26,
   "metadata": {},
   "outputs": [
    {
     "data": {
      "text/plain": [
       "100"
      ]
     },
     "execution_count": 26,
     "metadata": {},
     "output_type": "execute_result"
    }
   ],
   "source": [
    "#determine the number of items in the list\n",
    "len(male_users)"
   ]
  },
  {
   "cell_type": "code",
   "execution_count": 29,
   "metadata": {},
   "outputs": [
    {
     "name": "stdout",
     "output_type": "stream",
     "text": [
      "1. Raphaël Faure\n",
      "2. Santiago Santiago\n",
      "3. Danny Craig\n",
      "4. Hubrecht Van der Geest\n",
      "5. Esat Çetin\n",
      "6. Manuel Wildner\n",
      "7. Ataíde Farias\n",
      "8. Wyatt Watkins\n",
      "9. Snizhan Kozakevich\n",
      "10. Lorenzo Gutiérrez\n",
      "11. Rishaan Babu\n",
      "12. Efe Çatalbaş\n",
      "13. Rasmus Salmi\n",
      "14. Necati Öztonga\n",
      "15. Jeremy Rice\n",
      "16. Ryder Gauthier\n",
      "17. Askil Abdallah\n",
      "18. Luukas Koivisto\n",
      "19. Alfonso Pizarro\n",
      "20. Nathan Gagnon\n",
      "21. Rayaan Manjunath\n",
      "22. Kasper Jørgensen\n",
      "23. Sharif Snijder\n",
      "24. Heliodoro da Mata\n",
      "25. Hudson Grewal\n",
      "26. Xavier Walker\n",
      "27. Eduardo Harvey\n",
      "28. Glen James\n",
      "29. Brian Edwards\n",
      "30. Mel Farias\n",
      "31. Christoffer Pedersen\n",
      "32. آرش كامياران\n",
      "33. Vedat Aygün\n",
      "34. Noah Roy\n",
      "35. Miro Tanner\n",
      "36. Sander Rasmussen\n",
      "37. سام جعفری\n",
      "38. Radimir Kashchuk\n",
      "39. Sagar Bharanya\n",
      "40. James Harcourt\n",
      "41. امیر موسوی\n",
      "42. Carlos Álvarez\n",
      "43. Salvador Quiñones\n",
      "44. Arthur Berger\n",
      "45. Archer Davies\n",
      "46. Yuvraj Naik\n",
      "47. Ahmet Çörekçi\n",
      "48. Vadim Bevzenko\n",
      "49. Hugo Walker\n",
      "50. Aadi Chatterjee\n",
      "51. Arthur Dean\n",
      "52. Magadar Krishchenko\n",
      "53. Dan Gomez\n",
      "54. Sebastian Miller\n",
      "55. Derek Burke\n",
      "56. Jimi Leppanen\n",
      "57. Živojin Vučetić\n",
      "58. Osmano Lima\n",
      "59. Marius Poulsen\n",
      "60. Sander Rasmussen\n",
      "61. Nicolas Lozano\n",
      "62. Agustín Marín\n",
      "63. Faust Korobko\n",
      "64. Noah Clarke\n",
      "65. James Austin\n",
      "66. Ignjat Tomović\n",
      "67. Claude Brunet\n",
      "68. Adam Denys\n",
      "69. Elouan Lecomte\n",
      "70. Aune Gjestvang\n",
      "71. آرتين رضاییان\n",
      "72. Nirav Fernandes\n",
      "73. Özkan Kulaksızoğlu\n",
      "74. Rudi Engelke\n",
      "75. Allan Hayes\n",
      "76. Braxton Hughes\n",
      "77. Milton Dixon\n",
      "78. محمدامين مرادی\n",
      "79. Edelbert Reiche\n",
      "80. Côme David\n",
      "81. اميرعلي نكو نظر\n",
      "82. Andron Galinskiy\n",
      "83. Antonino Gautier\n",
      "84. Efe Erez\n",
      "85. Owen Gill\n",
      "86. Alex Horstmann\n",
      "87. Ryder Singh\n",
      "88. Cristóvão Mendes\n",
      "89. Nihal Nair\n",
      "90. Liam Cole\n",
      "91. Gökhan Tekand\n",
      "92. Pimen Kunovski\n",
      "93. Servaas Mennes\n",
      "94. Lino Morin\n",
      "95. Duke Erkelens\n",
      "96. Hussein Omland\n",
      "97. Dhanush Saldanha\n",
      "98. Aatu Leinonen\n",
      "99. Cosme Silva\n",
      "100. طاها سهيلي راد\n"
     ]
    }
   ],
   "source": [
    "for i in range(0,100):\n",
    "    print(f'{i+1}. {male_users[i][\"name\"][\"first\"]} {male_users[i][\"name\"][\"last\"]}')"
   ]
  },
  {
   "cell_type": "code",
   "execution_count": null,
   "metadata": {},
   "outputs": [],
   "source": []
  }
 ],
 "metadata": {
  "kernelspec": {
   "display_name": "base",
   "language": "python",
   "name": "python3"
  },
  "language_info": {
   "codemirror_mode": {
    "name": "ipython",
    "version": 3
   },
   "file_extension": ".py",
   "mimetype": "text/x-python",
   "name": "python",
   "nbconvert_exporter": "python",
   "pygments_lexer": "ipython3",
   "version": "3.9.13"
  },
  "orig_nbformat": 4,
  "vscode": {
   "interpreter": {
    "hash": "16702569c2ff5c8afaa6d9391f9969b5316a57602435b8dae87cc2ecbe41133d"
   }
  }
 },
 "nbformat": 4,
 "nbformat_minor": 2
}
